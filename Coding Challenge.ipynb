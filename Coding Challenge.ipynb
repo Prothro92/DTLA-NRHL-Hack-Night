{
 "cells": [
  {
   "cell_type": "code",
   "execution_count": 211,
   "metadata": {},
   "outputs": [],
   "source": [
    "import math"
   ]
  },
  {
   "cell_type": "code",
   "execution_count": 212,
   "metadata": {},
   "outputs": [],
   "source": [
    "a=[]\n",
    "b=[]\n",
    "n=0\n",
    "for i in range(1,4):\n",
    "    #Loads Files in Based on How They are saved On My Computer\n",
    "    a.append(open(r'C:\\Users\\Patrick\\Downloads\\Coding-Challenge[2]\\shoe'+str(i)+'.txt','r'))\n",
    "    b.append(dict(enumerate(a[n].readlines())))\n",
    "    n= n +1"
   ]
  },
  {
   "cell_type": "code",
   "execution_count": 213,
   "metadata": {},
   "outputs": [],
   "source": [
    "n=1\n",
    "a=0\n",
    "c=[]\n",
    "d=[]\n",
    "e=[]\n",
    "f=[]\n",
    "g=[]\n",
    "h=[]\n",
    "for i in range(len(b)):\n",
    "    for q in range(len(b[i])):\n",
    "        if 'heel' in b[a][q] and '\" heel' not in b[a][q]:\n",
    "            c.append(str(b[a][q].split()[1]) + ' Heel')\n",
    "        if 'toe' in b[a][q]:\n",
    "            d.append(b[a][q].split()[1]) \n",
    "            e.append(str(b[a][q].split()[2].title()))\n",
    "        if 'Synthetic' in b[a][q]:\n",
    "            g.append('Material: Manmade')\n",
    "        elif 'Fabric' in b[a][q]  or 'suede' in b[a][q]:\n",
    "            g.append('Material: Suede')\n",
    "        if 'padded' in b[a][q]:\n",
    "            f.append('Features: Padding')\n",
    "        if '\" heel' in b[a][q]:\n",
    "            h.append(math.ceil((float(b[a][q].split()[2][:-1]))))\n",
    "    a=a+1\n",
    "    n = n +1"
   ]
  },
  {
   "cell_type": "code",
   "execution_count": 214,
   "metadata": {},
   "outputs": [
    {
     "name": "stdout",
     "output_type": "stream",
     "text": [
      "\n",
      "\n",
      "shoe1:\n",
      "Heel_Style: Stiletto Heel\n",
      "Toe_Style: Peep Toe\n",
      "Material: Manmade\n",
      "Heel 1\"-4\"= High Heel\n",
      "\n",
      "\n",
      "shoe2:\n",
      "Heel_Style: Block Heel\n",
      "Toe_Style: Open Toe\n",
      "Material: Suede\n",
      "Features: Padding\n",
      "Heel 2\"-2\"= Low Heel\n",
      "\n",
      "\n",
      "shoe3:\n",
      "Heel_Style: Cone Heel\n",
      "Toe_Style: Open Toe\n",
      "Material: Suede\n",
      "Features: Padding\n",
      "Heel 3\"-3\"= Mid Heel\n"
     ]
    }
   ],
   "source": [
    "n=1\n",
    "m=-1\n",
    "for i in range(len(b)):\n",
    "    print('\\n')\n",
    "    print('shoe' + str(n) +':')\n",
    "    print('Heel_Style: ' + str(c[i]))\n",
    "    print('Toe_Style: ' + str(d[i]) + ' ' + str(e[i]))\n",
    "    #if 'Synthetic' in b[a][q]:\n",
    "    print(str(g[i]))\n",
    "    if i == 0:\n",
    "        pass\n",
    "    else:\n",
    "        print(f[m])\n",
    "    if h[i] == 2:\n",
    "        print('Heel '+str(n)+'\"-'+str(h[i])+'\"= Low Heel')\n",
    "    elif h[i] == 3:\n",
    "        print('Heel '+str(n)+'\"-'+str(h[i])+'\"= Mid Heel')\n",
    "    else:\n",
    "        print('Heel '+str(n)+'\"-'+str(h[i])+'\"= High Heel')\n",
    "    m=m+1\n",
    "    n=n+1"
   ]
  },
  {
   "cell_type": "code",
   "execution_count": null,
   "metadata": {},
   "outputs": [],
   "source": []
  }
 ],
 "metadata": {
  "kernelspec": {
   "display_name": "Python 3",
   "language": "python",
   "name": "python3"
  },
  "language_info": {
   "codemirror_mode": {
    "name": "ipython",
    "version": 3
   },
   "file_extension": ".py",
   "mimetype": "text/x-python",
   "name": "python",
   "nbconvert_exporter": "python",
   "pygments_lexer": "ipython3",
   "version": "3.6.4"
  }
 },
 "nbformat": 4,
 "nbformat_minor": 2
}
